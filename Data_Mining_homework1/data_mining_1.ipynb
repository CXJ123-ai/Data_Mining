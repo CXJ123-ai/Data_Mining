{
 "cells": [
  {
   "cell_type": "code",
   "execution_count": 2,
   "metadata": {
    "pycharm": {
     "is_executing": true,
     "name": "#%%\n"
    }
   },
   "outputs": [],
   "source": [
    "import numpy as np\n",
    "import pandas as pd\n",
    "import matplotlib.pyplot as plt\n",
    "import seaborn as sns\n",
    "import os"
   ]
  },
  {
   "cell_type": "markdown",
   "metadata": {},
   "source": [
    "首先分析wine reviews数据集\n",
    "\n",
    "1. 数据可视化和摘要\n",
    "\n",
    "1.1 数据摘要\n"
   ]
  },
  {
   "cell_type": "code",
   "execution_count": 3,
   "metadata": {
    "pycharm": {
     "name": "#%%\n"
    }
   },
   "outputs": [
    {
     "name": "stdout",
     "output_type": "stream",
     "text": [
      "(150930, 11) (129971, 14)\n",
      "['Unnamed: 0', 'country', 'description', 'designation', 'points', 'price', 'province', 'region_1', 'region_2', 'variety', 'winery'] ['Unnamed: 0', 'country', 'description', 'designation', 'points', 'price', 'province', 'region_1', 'region_2', 'taster_name', 'taster_twitter_handle', 'title', 'variety', 'winery']\n"
     ]
    }
   ],
   "source": [
    "#导入数据\n",
    "wine_1 = pd.read_csv(\"./winemag/winemag-data_first150k.csv\")\n",
    "wine_2 = pd.read_csv(\"./winemag/winemag-data-130k-v2.csv\")\n",
    "print(wine_1.shape,wine_2.shape)\n",
    "print(wine_1.columns.values.tolist(),wine_2.columns.values.tolist()  ) #输出各列名\n"
   ]
  },
  {
   "cell_type": "code",
   "execution_count": 4,
   "metadata": {},
   "outputs": [
    {
     "name": "stdout",
     "output_type": "stream",
     "text": [
      "<class 'pandas.core.frame.DataFrame'>\n",
      "RangeIndex: 280901 entries, 0 to 280900\n",
      "Data columns (total 13 columns):\n",
      " #   Column                 Non-Null Count   Dtype  \n",
      "---  ------                 --------------   -----  \n",
      " 0   country                280833 non-null  object \n",
      " 1   description            280901 non-null  object \n",
      " 2   designation            197701 non-null  object \n",
      " 3   points                 280901 non-null  int64  \n",
      " 4   price                  258210 non-null  float64\n",
      " 5   province               280833 non-null  object \n",
      " 6   region_1               234594 non-null  object \n",
      " 7   region_2               111464 non-null  object \n",
      " 8   variety                280900 non-null  object \n",
      " 9   winery                 280901 non-null  object \n",
      " 10  taster_name            103727 non-null  object \n",
      " 11  taster_twitter_handle  98758 non-null   object \n",
      " 12  title                  129971 non-null  object \n",
      "dtypes: float64(1), int64(1), object(11)\n",
      "memory usage: 27.9+ MB\n"
     ]
    }
   ],
   "source": [
    "#合并数据\n",
    "wine = pd.concat([wine_1, wine_2], ignore_index=True)\n",
    "wine=wine.drop(labels='Unnamed: 0', axis=1)\n",
    "wine.info()"
   ]
  },
  {
   "cell_type": "code",
   "execution_count": 5,
   "metadata": {},
   "outputs": [
    {
     "data": {
      "text/html": [
       "<div>\n",
       "<style scoped>\n",
       "    .dataframe tbody tr th:only-of-type {\n",
       "        vertical-align: middle;\n",
       "    }\n",
       "\n",
       "    .dataframe tbody tr th {\n",
       "        vertical-align: top;\n",
       "    }\n",
       "\n",
       "    .dataframe thead th {\n",
       "        text-align: right;\n",
       "    }\n",
       "</style>\n",
       "<table border=\"1\" class=\"dataframe\">\n",
       "  <thead>\n",
       "    <tr style=\"text-align: right;\">\n",
       "      <th></th>\n",
       "      <th>country</th>\n",
       "      <th>description</th>\n",
       "      <th>designation</th>\n",
       "      <th>points</th>\n",
       "      <th>price</th>\n",
       "      <th>province</th>\n",
       "      <th>region_1</th>\n",
       "      <th>region_2</th>\n",
       "      <th>variety</th>\n",
       "      <th>winery</th>\n",
       "      <th>taster_name</th>\n",
       "      <th>taster_twitter_handle</th>\n",
       "      <th>title</th>\n",
       "    </tr>\n",
       "  </thead>\n",
       "  <tbody>\n",
       "    <tr>\n",
       "      <th>0</th>\n",
       "      <td>US</td>\n",
       "      <td>This tremendous 100% varietal wine hails from ...</td>\n",
       "      <td>Martha's Vineyard</td>\n",
       "      <td>96</td>\n",
       "      <td>235.0</td>\n",
       "      <td>California</td>\n",
       "      <td>Napa Valley</td>\n",
       "      <td>Napa</td>\n",
       "      <td>Cabernet Sauvignon</td>\n",
       "      <td>Heitz</td>\n",
       "      <td>NaN</td>\n",
       "      <td>NaN</td>\n",
       "      <td>NaN</td>\n",
       "    </tr>\n",
       "    <tr>\n",
       "      <th>1</th>\n",
       "      <td>Spain</td>\n",
       "      <td>Ripe aromas of fig, blackberry and cassis are ...</td>\n",
       "      <td>Carodorum Selección Especial Reserva</td>\n",
       "      <td>96</td>\n",
       "      <td>110.0</td>\n",
       "      <td>Northern Spain</td>\n",
       "      <td>Toro</td>\n",
       "      <td>NaN</td>\n",
       "      <td>Tinta de Toro</td>\n",
       "      <td>Bodega Carmen Rodríguez</td>\n",
       "      <td>NaN</td>\n",
       "      <td>NaN</td>\n",
       "      <td>NaN</td>\n",
       "    </tr>\n",
       "    <tr>\n",
       "      <th>2</th>\n",
       "      <td>US</td>\n",
       "      <td>Mac Watson honors the memory of a wine once ma...</td>\n",
       "      <td>Special Selected Late Harvest</td>\n",
       "      <td>96</td>\n",
       "      <td>90.0</td>\n",
       "      <td>California</td>\n",
       "      <td>Knights Valley</td>\n",
       "      <td>Sonoma</td>\n",
       "      <td>Sauvignon Blanc</td>\n",
       "      <td>Macauley</td>\n",
       "      <td>NaN</td>\n",
       "      <td>NaN</td>\n",
       "      <td>NaN</td>\n",
       "    </tr>\n",
       "    <tr>\n",
       "      <th>3</th>\n",
       "      <td>US</td>\n",
       "      <td>This spent 20 months in 30% new French oak, an...</td>\n",
       "      <td>Reserve</td>\n",
       "      <td>96</td>\n",
       "      <td>65.0</td>\n",
       "      <td>Oregon</td>\n",
       "      <td>Willamette Valley</td>\n",
       "      <td>Willamette Valley</td>\n",
       "      <td>Pinot Noir</td>\n",
       "      <td>Ponzi</td>\n",
       "      <td>NaN</td>\n",
       "      <td>NaN</td>\n",
       "      <td>NaN</td>\n",
       "    </tr>\n",
       "    <tr>\n",
       "      <th>4</th>\n",
       "      <td>France</td>\n",
       "      <td>This is the top wine from La Bégude, named aft...</td>\n",
       "      <td>La Brûlade</td>\n",
       "      <td>95</td>\n",
       "      <td>66.0</td>\n",
       "      <td>Provence</td>\n",
       "      <td>Bandol</td>\n",
       "      <td>NaN</td>\n",
       "      <td>Provence red blend</td>\n",
       "      <td>Domaine de la Bégude</td>\n",
       "      <td>NaN</td>\n",
       "      <td>NaN</td>\n",
       "      <td>NaN</td>\n",
       "    </tr>\n",
       "  </tbody>\n",
       "</table>\n",
       "</div>"
      ],
      "text/plain": [
       "  country                                        description  \\\n",
       "0      US  This tremendous 100% varietal wine hails from ...   \n",
       "1   Spain  Ripe aromas of fig, blackberry and cassis are ...   \n",
       "2      US  Mac Watson honors the memory of a wine once ma...   \n",
       "3      US  This spent 20 months in 30% new French oak, an...   \n",
       "4  France  This is the top wine from La Bégude, named aft...   \n",
       "\n",
       "                            designation  points  price        province  \\\n",
       "0                     Martha's Vineyard      96  235.0      California   \n",
       "1  Carodorum Selección Especial Reserva      96  110.0  Northern Spain   \n",
       "2         Special Selected Late Harvest      96   90.0      California   \n",
       "3                               Reserve      96   65.0          Oregon   \n",
       "4                            La Brûlade      95   66.0        Provence   \n",
       "\n",
       "            region_1           region_2             variety  \\\n",
       "0        Napa Valley               Napa  Cabernet Sauvignon   \n",
       "1               Toro                NaN       Tinta de Toro   \n",
       "2     Knights Valley             Sonoma     Sauvignon Blanc   \n",
       "3  Willamette Valley  Willamette Valley          Pinot Noir   \n",
       "4             Bandol                NaN  Provence red blend   \n",
       "\n",
       "                    winery taster_name taster_twitter_handle title  \n",
       "0                    Heitz         NaN                   NaN   NaN  \n",
       "1  Bodega Carmen Rodríguez         NaN                   NaN   NaN  \n",
       "2                 Macauley         NaN                   NaN   NaN  \n",
       "3                    Ponzi         NaN                   NaN   NaN  \n",
       "4     Domaine de la Bégude         NaN                   NaN   NaN  "
      ]
     },
     "execution_count": 5,
     "metadata": {},
     "output_type": "execute_result"
    }
   ],
   "source": [
    "#去重\n",
    "wine.duplicated().value_counts()\n",
    "wine.drop_duplicates()\n",
    "wine.head()"
   ]
  },
  {
   "cell_type": "markdown",
   "metadata": {},
   "source": [
    "1.1.1 标称属性"
   ]
  },
  {
   "cell_type": "code",
   "execution_count": 19,
   "metadata": {},
   "outputs": [
    {
     "name": "stdout",
     "output_type": "stream",
     "text": [
      "country:\n",
      "\n",
      "US                        116901\n",
      "France                     43191\n",
      "Italy                      43018\n",
      "Spain                      14913\n",
      "Portugal                   11013\n",
      "Chile                      10288\n",
      "Argentina                   9431\n",
      "Australia                   7286\n",
      "Austria                     6402\n",
      "New Zealand                 4739\n",
      "Germany                     4617\n",
      "South Africa                3659\n",
      "Greece                      1350\n",
      "Israel                      1135\n",
      "Canada                       453\n",
      "Hungary                      377\n",
      "Romania                      259\n",
      "Bulgaria                     218\n",
      "Uruguay                      201\n",
      "Slovenia                     181\n",
      "Croatia                      162\n",
      "Turkey                       142\n",
      "Mexico                       133\n",
      "Moldova                      130\n",
      "Georgia                      129\n",
      "England                       83\n",
      "Brazil                        77\n",
      "Lebanon                       72\n",
      "Cyprus                        42\n",
      "Morocco                       40\n",
      "Macedonia                     28\n",
      "Serbia                        26\n",
      "Ukraine                       19\n",
      "Czech Republic                18\n",
      "India                         17\n",
      "Peru                          16\n",
      "Luxembourg                    15\n",
      "Switzerland                   11\n",
      "Lithuania                      8\n",
      "Bosnia and Herzegovina         6\n",
      "Slovakia                       4\n",
      "Egypt                          4\n",
      "South Korea                    4\n",
      "China                          4\n",
      "Japan                          2\n",
      "Albania                        2\n",
      "Tunisia                        2\n",
      "Montenegro                     2\n",
      "Armenia                        2\n",
      "US-France                      1\n",
      "Name: country, dtype: int64\n",
      "\n",
      "\n",
      "province:\n",
      "\n",
      "California                                80755\n",
      "Washington                                18389\n",
      "Tuscany                                   13178\n",
      "Bordeaux                                  12052\n",
      "Oregon                                     9962\n",
      "                                          ...  \n",
      "Vino da Tavola della Svizzera Italiana        1\n",
      "Paardeberg                                    1\n",
      "Terasele Dunarii                              1\n",
      "Pannon                                        1\n",
      "Douro Superior                                1\n",
      "Name: province, Length: 490, dtype: int64\n",
      "\n",
      "\n",
      "region_1:\n",
      "\n",
      "Napa Valley                               10689\n",
      "Columbia Valley (WA)                       9099\n",
      "Russian River Valley                       6662\n",
      "California                                 6091\n",
      "Mendoza                                    5887\n",
      "                                          ...  \n",
      "Vin Pétillant                                 1\n",
      "Vin de Pays de Sainte-Marie la Blanche        1\n",
      "Grand Roussillon                              1\n",
      "Coda di Volpe d'Irpinia                       1\n",
      "Vin de Pays de Côtes du Tarn                  1\n",
      "Name: region_1, Length: 1332, dtype: int64\n",
      "\n",
      "\n",
      "region_2:\n",
      "\n",
      "Central Coast              24122\n",
      "Sonoma                     20286\n",
      "Columbia Valley            17260\n",
      "Napa                       15615\n",
      "Willamette Valley           6604\n",
      "California Other            6179\n",
      "Finger Lakes                3287\n",
      "Sierra Foothills            3122\n",
      "Napa-Sonoma                 2814\n",
      "Mendocino/Lake Counties     2389\n",
      "Central Valley              2177\n",
      "Southern Oregon             1579\n",
      "Long Island                 1451\n",
      "Oregon Other                1388\n",
      "North Coast                 1216\n",
      "Washington Other            1127\n",
      "South Coast                  470\n",
      "New York Other               378\n",
      "Name: region_2, dtype: int64\n",
      "\n",
      "\n",
      "variety:\n",
      "\n",
      "Pinot Noir                  27563\n",
      "Chardonnay                  26235\n",
      "Cabernet Sauvignon          22272\n",
      "Red Blend                   19008\n",
      "Bordeaux-style Red Blend    14262\n",
      "                            ...  \n",
      "Babosa Negro                    1\n",
      "Tinta Amarela                   1\n",
      "Misket                          1\n",
      "Tinta Madeira                   1\n",
      "Francisa                        1\n",
      "Name: variety, Length: 756, dtype: int64\n",
      "\n",
      "\n",
      "winery:\n",
      "\n",
      "Williams Selyem              585\n",
      "Testarossa                   492\n",
      "DFJ Vinhos                   473\n",
      "Chateau Ste. Michelle        419\n",
      "Wines & Winemakers           391\n",
      "                            ... \n",
      "Les Amants                     1\n",
      "Château les Vergnes            1\n",
      "Complexity                     1\n",
      "Cantina dei Colli Amerini      1\n",
      "Domaine Claude Nouveau         1\n",
      "Name: winery, Length: 19186, dtype: int64\n",
      "\n",
      "\n"
     ]
    }
   ],
   "source": [
    "#各标量数量\n",
    "labels = ['country','province','region_1','region_2','variety','winery']\n",
    "for label in labels:\n",
    "    print(label+':\\n')\n",
    "    print(wine[label].value_counts())\n",
    "    print('\\n')"
   ]
  },
  {
   "cell_type": "markdown",
   "metadata": {},
   "source": [
    "1.1.2数值属性"
   ]
  },
  {
   "cell_type": "code",
   "execution_count": 20,
   "metadata": {},
   "outputs": [
    {
     "data": {
      "text/html": [
       "<div>\n",
       "<style scoped>\n",
       "    .dataframe tbody tr th:only-of-type {\n",
       "        vertical-align: middle;\n",
       "    }\n",
       "\n",
       "    .dataframe tbody tr th {\n",
       "        vertical-align: top;\n",
       "    }\n",
       "\n",
       "    .dataframe thead th {\n",
       "        text-align: right;\n",
       "    }\n",
       "</style>\n",
       "<table border=\"1\" class=\"dataframe\">\n",
       "  <thead>\n",
       "    <tr style=\"text-align: right;\">\n",
       "      <th></th>\n",
       "      <th>points</th>\n",
       "      <th>price</th>\n",
       "    </tr>\n",
       "  </thead>\n",
       "  <tbody>\n",
       "    <tr>\n",
       "      <th>count</th>\n",
       "      <td>280901.000000</td>\n",
       "      <td>258210.000000</td>\n",
       "    </tr>\n",
       "    <tr>\n",
       "      <th>mean</th>\n",
       "      <td>88.146934</td>\n",
       "      <td>34.177162</td>\n",
       "    </tr>\n",
       "    <tr>\n",
       "      <th>std</th>\n",
       "      <td>3.151528</td>\n",
       "      <td>38.611708</td>\n",
       "    </tr>\n",
       "    <tr>\n",
       "      <th>min</th>\n",
       "      <td>80.000000</td>\n",
       "      <td>4.000000</td>\n",
       "    </tr>\n",
       "    <tr>\n",
       "      <th>25%</th>\n",
       "      <td>86.000000</td>\n",
       "      <td>16.000000</td>\n",
       "    </tr>\n",
       "    <tr>\n",
       "      <th>50%</th>\n",
       "      <td>88.000000</td>\n",
       "      <td>25.000000</td>\n",
       "    </tr>\n",
       "    <tr>\n",
       "      <th>75%</th>\n",
       "      <td>90.000000</td>\n",
       "      <td>40.000000</td>\n",
       "    </tr>\n",
       "    <tr>\n",
       "      <th>max</th>\n",
       "      <td>100.000000</td>\n",
       "      <td>3300.000000</td>\n",
       "    </tr>\n",
       "  </tbody>\n",
       "</table>\n",
       "</div>"
      ],
      "text/plain": [
       "              points          price\n",
       "count  280901.000000  258210.000000\n",
       "mean       88.146934      34.177162\n",
       "std         3.151528      38.611708\n",
       "min        80.000000       4.000000\n",
       "25%        86.000000      16.000000\n",
       "50%        88.000000      25.000000\n",
       "75%        90.000000      40.000000\n",
       "max       100.000000    3300.000000"
      ]
     },
     "execution_count": 20,
     "metadata": {},
     "output_type": "execute_result"
    }
   ],
   "source": [
    "#wine reviews的数据集数值属性包括points 和 price\n",
    "#其五数概括如下\n",
    "wine.describe()"
   ]
  },
  {
   "cell_type": "markdown",
   "metadata": {},
   "source": [
    "min 25% 50% 75% max 就是point和price这两个数值属性的五数概括"
   ]
  },
  {
   "cell_type": "code",
   "execution_count": 21,
   "metadata": {},
   "outputs": [
    {
     "data": {
      "text/plain": [
       "country                      68\n",
       "description                   0\n",
       "designation               83200\n",
       "points                        0\n",
       "price                     22691\n",
       "province                     68\n",
       "region_1                  46307\n",
       "region_2                 169437\n",
       "variety                       1\n",
       "winery                        0\n",
       "taster_name              177174\n",
       "taster_twitter_handle    182143\n",
       "title                    150930\n",
       "dtype: int64"
      ]
     },
     "execution_count": 21,
     "metadata": {},
     "output_type": "execute_result"
    }
   ],
   "source": [
    "#每一列缺失值个数统计如下\n",
    "wine.isnull().sum(axis=0)"
   ]
  },
  {
   "cell_type": "markdown",
   "metadata": {},
   "source": [
    "1.2数据可视化"
   ]
  },
  {
   "cell_type": "code",
   "execution_count": 33,
   "metadata": {},
   "outputs": [
    {
     "data": {
      "image/png": "[encoded data removed]",
      "text/plain": [
       "<Figure size 432x288 with 1 Axes>"
      ]
     },
     "metadata": {
      "needs_background": "light"
     },
     "output_type": "display_data"
    }
   ],
   "source": [
    "#检查数据分布即离群点，首先过滤price的缺失值，盒图进行可视化\n",
    "plt.boxplot(wine['points'], notch=False, sym='y', vert=True)\n",
    "plt.xlabel('points')\n",
    "plt.title('overall wine quality')\n",
    "plt.show()"
   ]
  },
  {
   "cell_type": "code",
   "execution_count": 35,
   "metadata": {},
   "outputs": [
    {
     "data": {
      "image/png": "[encoded data removed]",
      "text/plain": [
       "<Figure size 432x288 with 1 Axes>"
      ]
     },
     "metadata": {
      "needs_background": "light"
     },
     "output_type": "display_data"
    }
   ],
   "source": [
    "plt.boxplot(wine['price'].dropna(), notch=False, sym='y', vert=True)\n",
    "plt.xlabel('price')\n",
    "plt.title('overall wine prices')\n",
    "plt.show()"
   ]
  },
  {
   "cell_type": "markdown",
   "metadata": {},
   "source": [
    "price集中在某一小范围内。有大量离群点"
   ]
  },
  {
   "cell_type": "code",
   "execution_count": 37,
   "metadata": {},
   "outputs": [
    {
     "name": "stdout",
     "output_type": "stream",
     "text": [
      "[88.16610636350416, 88.884559283184, 88.48114742665861, 86.93254207738215, 88.15717788068646, 86.3822900466563, 86.28385112925459, 88.11240735657425, 89.70759137769447, 87.77843426883308]\n"
     ]
    },
    {
     "data": {
      "image/png": "[encoded data removed]",
      "text/plain": [
       "<Figure size 432x288 with 1 Axes>"
      ]
     },
     "metadata": {
      "needs_background": "light"
     },
     "output_type": "display_data"
    }
   ],
   "source": [
    "#统计销量前十的国家\n",
    "Countries = wine['country'].value_counts()[:10]\n",
    "country = Countries.index\n",
    "mean_points=[]\n",
    "for c in country:\n",
    "    temp = wine.loc[wine['country']==c]\n",
    "    sum_points = temp['points'].sum()\n",
    "    mean_points.append(sum_points*1.0/Countries[c])\n",
    "print(mean_points)\n",
    "    \n",
    "plt.bar(country, mean_points)\n",
    "plt.xticks(rotation=90)\n",
    "plt.title('average point index of the top 10 national wines')\n",
    "plt.show()"
   ]
  },
  {
   "cell_type": "code",
   "execution_count": 38,
   "metadata": {},
   "outputs": [
    {
     "data": {
      "image/png": "[encoded data removed]",
      "text/plain": [
       "<Figure size 432x288 with 1 Axes>"
      ]
     },
     "metadata": {
      "needs_background": "light"
     },
     "output_type": "display_data"
    }
   ],
   "source": [
    "points = [Countries[i] for i in range(10)]\n",
    "plt.bar(country, points)\n",
    "plt.xticks(rotation=90)\n",
    "plt.title('top 10 countries for the sum of the quality of wine')\n",
    "plt.show()"
   ]
  },
  {
   "cell_type": "code",
   "execution_count": 40,
   "metadata": {},
   "outputs": [
    {
     "name": "stdout",
     "output_type": "stream",
     "text": [
      "count    258210.000000\n",
      "mean         34.177162\n",
      "std          38.611708\n",
      "min           4.000000\n",
      "25%          16.000000\n",
      "50%          25.000000\n",
      "75%          40.000000\n",
      "max        3300.000000\n",
      "Name: price, dtype: float64\n"
     ]
    },
    {
     "data": {
      "image/png": "[encoded data removed]",
      "text/plain": [
       "<Figure size 432x288 with 1 Axes>"
      ]
     },
     "metadata": {
      "needs_background": "light"
     },
     "output_type": "display_data"
    }
   ],
   "source": [
    "print(wine['price'].describe())\n",
    "#画出price的分布散点图\n",
    "sns.stripplot(y='price', data=wine)\n",
    "plt.show()"
   ]
  },
  {
   "cell_type": "markdown",
   "metadata": {},
   "source": [
    "价格的均值为34.17，最大值为3300，最小值为4"
   ]
  },
  {
   "cell_type": "code",
   "execution_count": 41,
   "metadata": {},
   "outputs": [
    {
     "name": "stderr",
     "output_type": "stream",
     "text": [
      "/Applications/anaconda3/lib/python3.8/site-packages/seaborn/distributions.py:2557: FutureWarning: `distplot` is a deprecated function and will be removed in a future version. Please adapt your code to use either `displot` (a figure-level function with similar flexibility) or `histplot` (an axes-level function for histograms).\n",
      "  warnings.warn(msg, FutureWarning)\n"
     ]
    },
    {
     "data": {
      "image/png": "[encoded data removed]",
      "text/plain": [
       "<Figure size 432x288 with 1 Axes>"
      ]
     },
     "metadata": {
      "needs_background": "light"
     },
     "output_type": "display_data"
    }
   ],
   "source": [
    "#画price的直方图与核概率密度图 过滤缺失值 \n",
    "sns.distplot(wine.price.dropna())\n",
    "plt.show()"
   ]
  },
  {
   "cell_type": "markdown",
   "metadata": {},
   "source": [
    "价格分布较为集中，主要分布在0-200之间"
   ]
  },
  {
   "cell_type": "code",
   "execution_count": 45,
   "metadata": {},
   "outputs": [
    {
     "data": {
      "text/plain": [
       "(array([ 0,  1,  2,  3,  4,  5,  6,  7,  8,  9, 10, 11, 12, 13, 14, 15, 16,\n",
       "        17, 18, 19, 20, 21, 22, 23]),\n",
       " [Text(0, 0, 'Grüner Veltliner'),\n",
       "  Text(1, 0, 'Chardonnay'),\n",
       "  Text(2, 0, 'Chardonnay'),\n",
       "  Text(3, 0, 'Bordeaux-style Red Blend'),\n",
       "  Text(4, 0, 'Bordeaux-style Red Blend'),\n",
       "  Text(5, 0, 'Bordeaux-style Red Blend'),\n",
       "  Text(6, 0, 'Bordeaux-style Red Blend'),\n",
       "  Text(7, 0, 'Bordeaux-style Red Blend'),\n",
       "  Text(8, 0, 'Chardonnay'),\n",
       "  Text(9, 0, 'Chardonnay'),\n",
       "  Text(10, 0, 'Bordeaux-style Red Blend'),\n",
       "  Text(11, 0, 'Bordeaux-style Red Blend'),\n",
       "  Text(12, 0, 'Bordeaux-style Red Blend'),\n",
       "  Text(13, 0, 'Bordeaux-style Red Blend'),\n",
       "  Text(14, 0, 'Bordeaux-style Red Blend'),\n",
       "  Text(15, 0, 'Bordeaux-style Red Blend'),\n",
       "  Text(16, 0, 'Bordeaux-style Red Blend'),\n",
       "  Text(17, 0, 'Grüner Veltliner'),\n",
       "  Text(18, 0, 'Pinot Noir'),\n",
       "  Text(19, 0, 'Bordeaux-style Red Blend'),\n",
       "  Text(20, 0, 'Bordeaux-style Red Blend'),\n",
       "  Text(21, 0, 'Pinot Noir'),\n",
       "  Text(22, 0, 'Pinot Noir'),\n",
       "  Text(23, 0, 'Chardonnay')])"
      ]
     },
     "execution_count": 45,
     "metadata": {},
     "output_type": "execute_result"
    },
    {
     "data": {
      "image/png": "[encoded data removed]",
      "text/plain": [
       "<Figure size 432x288 with 1 Axes>"
      ]
     },
     "metadata": {
      "needs_background": "light"
     },
     "output_type": "display_data"
    }
   ],
   "source": [
    "#讨论高价的酒与其原料的关系\n",
    "High_price = wine[wine.price>1000]\n",
    "temp = High_price[['price','variety']]\n",
    "temp.plot(kind='bar', x='variety', y='price')\n",
    "plt.xticks(rotation=90)"
   ]
  },
  {
   "cell_type": "markdown",
   "metadata": {},
   "source": [
    "不同原料酿造的酒价格不同，因此可以判断相关"
   ]
  },
  {
   "cell_type": "markdown",
   "metadata": {},
   "source": [
    "2.数据缺失的处理"
   ]
  },
  {
   "cell_type": "code",
   "execution_count": 48,
   "metadata": {},
   "outputs": [
    {
     "name": "stdout",
     "output_type": "stream",
     "text": [
      "               count      freq\n",
      "US            116901  0.418053\n",
      "France         43191  0.154457\n",
      "Italy          43018  0.153838\n",
      "Spain          14913  0.053331\n",
      "Portugal       11013  0.039384\n",
      "Chile          10288  0.036791\n",
      "Argentina       9431  0.033726\n",
      "Australia       7286  0.026056\n",
      "Austria         6402  0.022894\n",
      "New Zealand     4739  0.016947\n",
      "Germany         4617  0.016511\n",
      "South Africa    3659  0.013085\n",
      "Greece          1350  0.004828\n",
      "Israel          1135  0.004059\n",
      "Canada           453  0.001620\n",
      "Hungary          377  0.001348\n",
      "Romania          259  0.000926\n",
      "Bulgaria         218  0.000780\n",
      "Uruguay          201  0.000719\n",
      "Slovenia         181  0.000647\n"
     ]
    },
    {
     "data": {
      "image/png": "[encoded data removed]",
      "text/plain": [
       "<Figure size 432x288 with 1 Axes>"
      ]
     },
     "metadata": {
      "needs_background": "light"
     },
     "output_type": "display_data"
    }
   ],
   "source": [
    "#定义 标称属性数据基本信息及可视化数据函数\n",
    "def Re_Visualize(Series):\n",
    "    data = Series.value_counts()\n",
    "    name = data.index[:20]\n",
    "#     counts = [data[name[i]] for i in range(len(data))]\n",
    "    counts = [data[name[i]] for i in range(20)]\n",
    "    frequence = [counts[i]/sum(counts) for i in range(20)]\n",
    "    dataframe = pd.DataFrame(counts, index=name, columns=['count'])\n",
    "    dataframe['freq'] = frequence\n",
    "    print(dataframe)\n",
    "    plt.bar(name, counts)\n",
    "    plt.xticks(rotation=90)\n",
    "    plt.show()  #wine['country']的原始数据\n",
    "    \n",
    "Re_Visualize(wine['country'])"
   ]
  },
  {
   "cell_type": "code",
   "execution_count": 49,
   "metadata": {},
   "outputs": [
    {
     "name": "stdout",
     "output_type": "stream",
     "text": [
      "               count      freq\n",
      "US            116901  0.418053\n",
      "France         43191  0.154457\n",
      "Italy          43018  0.153838\n",
      "Spain          14913  0.053331\n",
      "Portugal       11013  0.039384\n",
      "Chile          10288  0.036791\n",
      "Argentina       9431  0.033726\n",
      "Australia       7286  0.026056\n",
      "Austria         6402  0.022894\n",
      "New Zealand     4739  0.016947\n",
      "Germany         4617  0.016511\n",
      "South Africa    3659  0.013085\n",
      "Greece          1350  0.004828\n",
      "Israel          1135  0.004059\n",
      "Canada           453  0.001620\n",
      "Hungary          377  0.001348\n",
      "Romania          259  0.000926\n",
      "Bulgaria         218  0.000780\n",
      "Uruguay          201  0.000719\n",
      "Slovenia         181  0.000647\n"
     ]
    },
    {
     "data": {
      "image/png": "[encoded data removed]",
      "text/plain": [
       "<Figure size 432x288 with 1 Axes>"
      ]
     },
     "metadata": {
      "needs_background": "light"
     },
     "output_type": "display_data"
    }
   ],
   "source": [
    "#处理缺失值的方式1:剔除缺失值\n",
    "country_1 = wine['country'].dropna()\n",
    "Re_Visualize(country_1)"
   ]
  },
  {
   "cell_type": "code",
   "execution_count": 53,
   "metadata": {},
   "outputs": [
    {
     "name": "stdout",
     "output_type": "stream",
     "text": [
      "               count      freq\n",
      "US            116969  0.418194\n",
      "France         43191  0.154419\n",
      "Italy          43018  0.153801\n",
      "Spain          14913  0.053318\n",
      "Portugal       11013  0.039374\n",
      "Chile          10288  0.036782\n",
      "Argentina       9431  0.033718\n",
      "Australia       7286  0.026049\n",
      "Austria         6402  0.022889\n",
      "New Zealand     4739  0.016943\n",
      "Germany         4617  0.016507\n",
      "South Africa    3659  0.013082\n",
      "Greece          1350  0.004827\n",
      "Israel          1135  0.004058\n",
      "Canada           453  0.001620\n",
      "Hungary          377  0.001348\n",
      "Romania          259  0.000926\n",
      "Bulgaria         218  0.000779\n",
      "Uruguay          201  0.000719\n",
      "Slovenia         181  0.000647\n"
     ]
    },
    {
     "data": {
      "image/png": "[encoded data removed]",
      "text/plain": [
       "<Figure size 432x288 with 1 Axes>"
      ]
     },
     "metadata": {
      "needs_background": "light"
     },
     "output_type": "display_data"
    }
   ],
   "source": [
    "#处理缺失值方式2：高频填充（众数）\n",
    "country_2 = wine['country'].fillna(wine['country'].mode()[0])\n",
    "Re_Visualize(country_2)"
   ]
  },
  {
   "cell_type": "markdown",
   "metadata": {},
   "source": [
    "填充后，与初始相比，存在缺失数据的国家。count和freq数据量有所增长\n",
    "\n",
    "处理designation属性"
   ]
  },
  {
   "cell_type": "code",
   "execution_count": 63,
   "metadata": {},
   "outputs": [
    {
     "name": "stdout",
     "output_type": "stream",
     "text": [
      "sum of null:83200\n",
      "\n",
      "value_count:\n",
      "Reserve                  4761\n",
      "Reserva                  3069\n",
      "Estate                   2893\n",
      "Barrel sample            1701\n",
      "Riserva                  1452\n",
      "                         ... \n",
      "C5 Stefani Vineyard         1\n",
      "Wrekin Vineyard             1\n",
      "White Stones Adrianna       1\n",
      "Vigneto Santa Cecilia       1\n",
      "Proprietor Reserve          1\n",
      "Name: designation, Length: 47239, dtype: int64\n",
      "\n"
     ]
    }
   ],
   "source": [
    "print('sum of null:'+ str(wine['designation'].isnull().sum())+'\\n')\n",
    "print('value_count:\\n'+str(wine['designation'].value_counts())+'\\n')"
   ]
  },
  {
   "cell_type": "code",
   "execution_count": 64,
   "metadata": {
    "scrolled": true
   },
   "outputs": [
    {
     "name": "stdout",
     "output_type": "stream",
     "text": [
      "                      count      freq\n",
      "Reserve                4761  0.203880\n",
      "Reserva                3069  0.131423\n",
      "Estate                 2893  0.123887\n",
      "Barrel sample          1701  0.072842\n",
      "Riserva                1452  0.062179\n",
      "Brut                   1137  0.048690\n",
      "Estate Grown           1070  0.045820\n",
      "Barrel Sample           891  0.038155\n",
      "Crianza                 846  0.036228\n",
      "Dry                     787  0.033702\n",
      "Estate Bottled          738  0.031603\n",
      "Gran Reserva            591  0.025308\n",
      "Old Vine                552  0.023638\n",
      "Vieilles Vignes         533  0.022825\n",
      "Brut Rosé               524  0.022439\n",
      "Extra Dry               448  0.019185\n",
      "Tradition               379  0.016230\n",
      "Rosé                    346  0.014817\n",
      "Réserve                 319  0.013661\n",
      "Bien Nacido Vineyard    315  0.013489\n"
     ]
    },
    {
     "data": {
      "image/png": "[encoded data removed]",
      "text/plain": [
       "<Figure size 432x288 with 1 Axes>"
      ]
     },
     "metadata": {
      "needs_background": "light"
     },
     "output_type": "display_data"
    }
   ],
   "source": [
    "#可视化原始数据\n",
    "Re_Visualize(wine['designation'])"
   ]
  },
  {
   "cell_type": "code",
   "execution_count": 65,
   "metadata": {
    "scrolled": true
   },
   "outputs": [
    {
     "name": "stdout",
     "output_type": "stream",
     "text": [
      "                      count      freq\n",
      "Reserve                4761  0.203880\n",
      "Reserva                3069  0.131423\n",
      "Estate                 2893  0.123887\n",
      "Barrel sample          1701  0.072842\n",
      "Riserva                1452  0.062179\n",
      "Brut                   1137  0.048690\n",
      "Estate Grown           1070  0.045820\n",
      "Barrel Sample           891  0.038155\n",
      "Crianza                 846  0.036228\n",
      "Dry                     787  0.033702\n",
      "Estate Bottled          738  0.031603\n",
      "Gran Reserva            591  0.025308\n",
      "Old Vine                552  0.023638\n",
      "Vieilles Vignes         533  0.022825\n",
      "Brut Rosé               524  0.022439\n",
      "Extra Dry               448  0.019185\n",
      "Tradition               379  0.016230\n",
      "Rosé                    346  0.014817\n",
      "Réserve                 319  0.013661\n",
      "Bien Nacido Vineyard    315  0.013489\n"
     ]
    },
    {
     "data": {
      "image/png": "[encoded data removed]",
      "text/plain": [
       "<Figure size 432x288 with 1 Axes>"
      ]
     },
     "metadata": {
      "needs_background": "light"
     },
     "output_type": "display_data"
    }
   ],
   "source": [
    "#处理缺失值的方式1:剔除缺失值\n",
    "designation_1 = wine['designation'].dropna()\n",
    "Re_Visualize(designation_1)"
   ]
  },
  {
   "cell_type": "code",
   "execution_count": 66,
   "metadata": {
    "scrolled": true
   },
   "outputs": [
    {
     "name": "stdout",
     "output_type": "stream",
     "text": [
      "                      count      freq\n",
      "Reserve               87961  0.825522\n",
      "Reserva                3069  0.028803\n",
      "Estate                 2893  0.027151\n",
      "Barrel sample          1701  0.015964\n",
      "Riserva                1452  0.013627\n",
      "Brut                   1137  0.010671\n",
      "Estate Grown           1070  0.010042\n",
      "Barrel Sample           891  0.008362\n",
      "Crianza                 846  0.007940\n",
      "Dry                     787  0.007386\n",
      "Estate Bottled          738  0.006926\n",
      "Gran Reserva            591  0.005547\n",
      "Old Vine                552  0.005181\n",
      "Vieilles Vignes         533  0.005002\n",
      "Brut Rosé               524  0.004918\n",
      "Extra Dry               448  0.004205\n",
      "Tradition               379  0.003557\n",
      "Rosé                    346  0.003247\n",
      "Réserve                 319  0.002994\n",
      "Bien Nacido Vineyard    315  0.002956\n"
     ]
    },
    {
     "data": {
      "image/png": "[encoded data removed]",
      "text/plain": [
       "<Figure size 432x288 with 1 Axes>"
      ]
     },
     "metadata": {
      "needs_background": "light"
     },
     "output_type": "display_data"
    }
   ],
   "source": [
    "#处理缺失值方式2：高频填充（众数）\n",
    "designation_2 = wine['designation'].fillna(wine['designation'].mode()[0])\n",
    "Re_Visualize(designation_2)"
   ]
  },
  {
   "cell_type": "markdown",
   "metadata": {},
   "source": [
    "分析crime record数据集\n",
    "\n",
    "1.数据摘要与可视化\n",
    "\n",
    "1.1 数据摘要"
   ]
  },
  {
   "cell_type": "code",
   "execution_count": 69,
   "metadata": {},
   "outputs": [
    {
     "name": "stdout",
     "output_type": "stream",
     "text": [
      "<class 'pandas.core.frame.DataFrame'>\n",
      "Int64Index: 1046388 entries, 0 to 180015\n",
      "Data columns (total 13 columns):\n",
      " #   Column                     Non-Null Count    Dtype  \n",
      "---  ------                     --------------    -----  \n",
      " 0   Agency                     1046384 non-null  object \n",
      " 1   Create Time                1046384 non-null  object \n",
      " 2   Location                   483425 non-null   object \n",
      " 3   Area Id                    864023 non-null   object \n",
      " 4   Beat                       1040583 non-null  object \n",
      " 5   Priority                   1046384 non-null  float64\n",
      " 6   Incident Type Id           1046384 non-null  object \n",
      " 7   Incident Type Description  1045996 non-null  object \n",
      " 8   Event Number               1046384 non-null  object \n",
      " 9   Closed Time                1046359 non-null  object \n",
      " 10  Location 1                 374799 non-null   object \n",
      " 11  Zip Codes                  352 non-null      float64\n",
      " 12  Location                   188052 non-null   object \n",
      "dtypes: float64(2), object(11)\n",
      "memory usage: 111.8+ MB\n"
     ]
    }
   ],
   "source": [
    "#将2011至2016年所有数据整合\n",
    "crime_data = pd.DataFrame()\n",
    "for i in range(2011,2017):\n",
    "    path = \"./crime_record/records-for-\" + str(i) + \".csv\"\n",
    "    crime_i = pd.read_csv(path)\n",
    "    crime_data = pd.concat([crime_i,crime_data])\n",
    "    \n",
    "crime_data.info()"
   ]
  },
  {
   "cell_type": "code",
   "execution_count": 71,
   "metadata": {},
   "outputs": [
    {
     "data": {
      "text/html": [
       "<div>\n",
       "<style scoped>\n",
       "    .dataframe tbody tr th:only-of-type {\n",
       "        vertical-align: middle;\n",
       "    }\n",
       "\n",
       "    .dataframe tbody tr th {\n",
       "        vertical-align: top;\n",
       "    }\n",
       "\n",
       "    .dataframe thead th {\n",
       "        text-align: right;\n",
       "    }\n",
       "</style>\n",
       "<table border=\"1\" class=\"dataframe\">\n",
       "  <thead>\n",
       "    <tr style=\"text-align: right;\">\n",
       "      <th></th>\n",
       "      <th>Agency</th>\n",
       "      <th>Create Time</th>\n",
       "      <th>Location</th>\n",
       "      <th>Area Id</th>\n",
       "      <th>Beat</th>\n",
       "      <th>Priority</th>\n",
       "      <th>Incident Type Id</th>\n",
       "      <th>Incident Type Description</th>\n",
       "      <th>Event Number</th>\n",
       "      <th>Closed Time</th>\n",
       "      <th>Location 1</th>\n",
       "      <th>Zip Codes</th>\n",
       "      <th>Location</th>\n",
       "    </tr>\n",
       "  </thead>\n",
       "  <tbody>\n",
       "    <tr>\n",
       "      <th>0</th>\n",
       "      <td>OP</td>\n",
       "      <td>2016-01-01T00:00:57.000</td>\n",
       "      <td>ST&amp;MARKET ST</td>\n",
       "      <td>P1</td>\n",
       "      <td>05X</td>\n",
       "      <td>2.0</td>\n",
       "      <td>415GS</td>\n",
       "      <td>415 GUNSHOTS</td>\n",
       "      <td>LOP160101000003</td>\n",
       "      <td>2016-01-01T00:32:30.000</td>\n",
       "      <td>NaN</td>\n",
       "      <td>NaN</td>\n",
       "      <td>NaN</td>\n",
       "    </tr>\n",
       "    <tr>\n",
       "      <th>1</th>\n",
       "      <td>OP</td>\n",
       "      <td>2016-01-01T00:01:25.000</td>\n",
       "      <td>AV&amp;HAMILTON ST</td>\n",
       "      <td>P3</td>\n",
       "      <td>26Y</td>\n",
       "      <td>2.0</td>\n",
       "      <td>415GS</td>\n",
       "      <td>415 GUNSHOTS</td>\n",
       "      <td>LOP160101000005</td>\n",
       "      <td>2016-01-01T00:48:23.000</td>\n",
       "      <td>NaN</td>\n",
       "      <td>NaN</td>\n",
       "      <td>NaN</td>\n",
       "    </tr>\n",
       "    <tr>\n",
       "      <th>2</th>\n",
       "      <td>OP</td>\n",
       "      <td>2016-01-01T00:01:43.000</td>\n",
       "      <td>ST&amp;CHESTNUT ST</td>\n",
       "      <td>P1</td>\n",
       "      <td>02X</td>\n",
       "      <td>2.0</td>\n",
       "      <td>415GS</td>\n",
       "      <td>415 GUNSHOTS</td>\n",
       "      <td>LOP160101000008</td>\n",
       "      <td>2016-01-01T00:21:24.000</td>\n",
       "      <td>NaN</td>\n",
       "      <td>NaN</td>\n",
       "      <td>NaN</td>\n",
       "    </tr>\n",
       "    <tr>\n",
       "      <th>3</th>\n",
       "      <td>OP</td>\n",
       "      <td>2016-01-01T00:01:48.000</td>\n",
       "      <td>WALLACE ST</td>\n",
       "      <td>P2</td>\n",
       "      <td>18Y</td>\n",
       "      <td>2.0</td>\n",
       "      <td>415GS</td>\n",
       "      <td>415 GUNSHOTS</td>\n",
       "      <td>LOP160101000007</td>\n",
       "      <td>2016-01-01T01:15:03.000</td>\n",
       "      <td>NaN</td>\n",
       "      <td>NaN</td>\n",
       "      <td>NaN</td>\n",
       "    </tr>\n",
       "    <tr>\n",
       "      <th>4</th>\n",
       "      <td>OP</td>\n",
       "      <td>2016-01-01T00:02:05.000</td>\n",
       "      <td>90TH AV</td>\n",
       "      <td>P3</td>\n",
       "      <td>34X</td>\n",
       "      <td>2.0</td>\n",
       "      <td>415GS</td>\n",
       "      <td>415 GUNSHOTS</td>\n",
       "      <td>LOP160101000009</td>\n",
       "      <td>2016-01-01T00:54:52.000</td>\n",
       "      <td>NaN</td>\n",
       "      <td>NaN</td>\n",
       "      <td>NaN</td>\n",
       "    </tr>\n",
       "  </tbody>\n",
       "</table>\n",
       "</div>"
      ],
      "text/plain": [
       "  Agency              Create Time             Location Area Id Beat  Priority  \\\n",
       "0     OP  2016-01-01T00:00:57.000     ST&MARKET ST          P1  05X       2.0   \n",
       "1     OP  2016-01-01T00:01:25.000   AV&HAMILTON ST          P3  26Y       2.0   \n",
       "2     OP  2016-01-01T00:01:43.000   ST&CHESTNUT ST          P1  02X       2.0   \n",
       "3     OP  2016-01-01T00:01:48.000       WALLACE ST          P2  18Y       2.0   \n",
       "4     OP  2016-01-01T00:02:05.000          90TH AV          P3  34X       2.0   \n",
       "\n",
       "  Incident Type Id Incident Type Description     Event Number  \\\n",
       "0            415GS              415 GUNSHOTS  LOP160101000003   \n",
       "1            415GS              415 GUNSHOTS  LOP160101000005   \n",
       "2            415GS              415 GUNSHOTS  LOP160101000008   \n",
       "3            415GS              415 GUNSHOTS  LOP160101000007   \n",
       "4            415GS              415 GUNSHOTS  LOP160101000009   \n",
       "\n",
       "               Closed Time Location 1  Zip Codes Location   \n",
       "0  2016-01-01T00:32:30.000        NaN        NaN       NaN  \n",
       "1  2016-01-01T00:48:23.000        NaN        NaN       NaN  \n",
       "2  2016-01-01T00:21:24.000        NaN        NaN       NaN  \n",
       "3  2016-01-01T01:15:03.000        NaN        NaN       NaN  \n",
       "4  2016-01-01T00:54:52.000        NaN        NaN       NaN  "
      ]
     },
     "execution_count": 71,
     "metadata": {},
     "output_type": "execute_result"
    }
   ],
   "source": [
    "crime_data.head()"
   ]
  },
  {
   "cell_type": "markdown",
   "metadata": {},
   "source": [
    "1.1.1 标称属性"
   ]
  },
  {
   "cell_type": "code",
   "execution_count": 75,
   "metadata": {},
   "outputs": [
    {
     "name": "stdout",
     "output_type": "stream",
     "text": [
      "Location:\n",
      "\n",
      " INTERNATIONAL BLVD                     5851\n",
      " AV&INTERNATIONAL BLVD                  4935\n",
      " MACARTHUR BLVD                         4918\n",
      " BROADWAY                               3879\n",
      " INTERNATIONAL BLVD                     3866\n",
      "                                        ... \n",
      "BUELL AV&E 8TH ST                          1\n",
      "BROADWAY&WATER AV&MACARTHUR BLVD           1\n",
      "INTERNATIONAL 26TH ST                      1\n",
      "45TH ST&CHESTNUT ST                        1\n",
      "27TH AV&B ST                               1\n",
      "Name: Location, Length: 83872, dtype: int64\n",
      "\n",
      "Area Id:\n",
      "\n",
      "1.0    290452\n",
      "2.0    236700\n",
      "P3     129054\n",
      "P1     114560\n",
      "P2      53033\n",
      "3.0     32907\n",
      "POU      5960\n",
      "PCW       789\n",
      "5.0       320\n",
      "4.0       236\n",
      "TEC        10\n",
      "JLS         1\n",
      "WAG         1\n",
      "Name: Area Id, dtype: int64\n",
      "\n",
      "Incident Type Id:\n",
      "\n",
      "933R     98497\n",
      "SECCK    70965\n",
      "415      66720\n",
      "911H     54935\n",
      "10851    47958\n",
      "         ...  \n",
      "963          1\n",
      "SUB          1\n",
      "PGE          1\n",
      "148_1        1\n",
      "270C         1\n",
      "Name: Incident Type Id, Length: 288, dtype: int64\n",
      "\n"
     ]
    }
   ],
   "source": [
    "labels = ['Location','Area Id','Incident Type Id']\n",
    "for label in labels:\n",
    "    print(str(label)+':\\n')\n",
    "    print(str(crime_data[label].value_counts())+'\\n')"
   ]
  },
  {
   "cell_type": "markdown",
   "metadata": {},
   "source": [
    "1.2数据可视化"
   ]
  },
  {
   "cell_type": "code",
   "execution_count": 79,
   "metadata": {},
   "outputs": [
    {
     "data": {
      "image/png": "[encoded data removed]",
      "text/plain": [
       "<Figure size 432x288 with 1 Axes>"
      ]
     },
     "metadata": {
      "needs_background": "light"
     },
     "output_type": "display_data"
    }
   ],
   "source": [
    "#显示犯罪最多的20个地区\n",
    "locations = crime_data.Location.value_counts()[:20]\n",
    "loc = locations.index\n",
    "num = [locations[i] for i in range(20)]\n",
    "plt.bar(loc, num)\n",
    "plt.xticks(rotation = 90)\n",
    "plt.title('Top 20 crime areas')\n",
    "plt.show()"
   ]
  },
  {
   "cell_type": "code",
   "execution_count": 82,
   "metadata": {},
   "outputs": [
    {
     "data": {
      "image/png": "[encoded data removed]",
      "text/plain": [
       "<Figure size 432x288 with 1 Axes>"
      ]
     },
     "metadata": {
      "needs_background": "light"
     },
     "output_type": "display_data"
    }
   ],
   "source": [
    "#最多的20种犯罪类型\n",
    "crime_types = crime_data['Incident Type Id'].value_counts()[:20]\n",
    "type_ids = crime_types.index\n",
    "num = [crime_types[i] for i in range(20)]\n",
    "plt.bar(type_ids, num)\n",
    "plt.xticks(rotation = 90)\n",
    "plt.title('Top 20 Crime Types')\n",
    "plt.show()"
   ]
  },
  {
   "cell_type": "code",
   "execution_count": 83,
   "metadata": {},
   "outputs": [
    {
     "data": {
      "image/png": "[encoded data removed]",
      "text/plain": [
       "<Figure size 432x288 with 1 Axes>"
      ]
     },
     "metadata": {
      "needs_background": "light"
     },
     "output_type": "display_data"
    }
   ],
   "source": [
    "#犯罪等级统计\n",
    "prioritys = crime_data['Priority'].value_counts()\n",
    "priority_name = prioritys.index\n",
    "num = [prioritys[i] for i in range(len(prioritys))]\n",
    "plt.bar(['0.0','1.0','2.0'], num)\n",
    "plt.title('Crime Level')\n",
    "plt.show()"
   ]
  },
  {
   "cell_type": "markdown",
   "metadata": {},
   "source": [
    "2.缺失值处理"
   ]
  },
  {
   "cell_type": "code",
   "execution_count": 84,
   "metadata": {},
   "outputs": [
    {
     "data": {
      "text/plain": [
       "Agency                             4\n",
       "Create Time                        4\n",
       "Location                      562963\n",
       "Area Id                       182365\n",
       "Beat                            5805\n",
       "Priority                           4\n",
       "Incident Type Id                   4\n",
       "Incident Type Description        392\n",
       "Event Number                       4\n",
       "Closed Time                       29\n",
       "Location 1                    671589\n",
       "Zip Codes                    1046036\n",
       "Location                      858336\n",
       "dtype: int64"
      ]
     },
     "execution_count": 84,
     "metadata": {},
     "output_type": "execute_result"
    }
   ],
   "source": [
    "crime_data.isnull().sum()"
   ]
  },
  {
   "cell_type": "code",
   "execution_count": 87,
   "metadata": {},
   "outputs": [
    {
     "data": {
      "image/png": "[encoded data removed]",
      "text/plain": [
       "<Figure size 432x288 with 1 Axes>"
      ]
     },
     "metadata": {
      "needs_background": "light"
     },
     "output_type": "display_data"
    }
   ],
   "source": [
    "#处理Location为例\n",
    "location_1 = crime_data.Location.dropna()\n",
    "#可视化剔除后的数据\n",
    "dropna_locs = location_1.value_counts()[:20]\n",
    "dropna_locs_name = dropna_locs.index\n",
    "dropna_locs_num = [dropna_locs[i] for i in range(20)]\n",
    "plt.bar(dropna_locs_name,dropna_locs_num)\n",
    "plt.xticks(rotation = 90)\n",
    "plt.title('Top 20 crime areas without na')\n",
    "plt.show()"
   ]
  },
  {
   "cell_type": "code",
   "execution_count": 94,
   "metadata": {},
   "outputs": [
    {
     "data": {
      "image/png": "[encoded data removed]",
      "text/plain": [
       "<Figure size 432x288 with 1 Axes>"
      ]
     },
     "metadata": {
      "needs_background": "light"
     },
     "output_type": "display_data"
    }
   ],
   "source": [
    "#高频填充\n",
    "location_2 = crime_data.Location.fillna(crime_data.Location.mode()[0]) \n",
    "#可视化高频填充后的数据\n",
    "fill_locs = location_2.value_counts()[:20]\n",
    "fill_locs_name = fill_locs.index\n",
    "fill_locs_num = [fill_locs[i] for i in range(20)]\n",
    "plt.bar(fill_locs_name, fill_locs_num)\n",
    "plt.xticks(rotation = 90)\n",
    "plt.title('Top 20 crime areas with mode fill')\n",
    "plt.show()"
   ]
  },
  {
   "cell_type": "code",
   "execution_count": null,
   "metadata": {},
   "outputs": [],
   "source": [
    "|"
   ]
  }
 ],
 "metadata": {
  "kernelspec": {
   "display_name": "Python 3",
   "language": "python",
   "name": "python3"
  },
  "language_info": {
   "codemirror_mode": {
    "name": "ipython",
    "version": 3
   },
   "file_extension": ".py",
   "mimetype": "text/x-python",
   "name": "python",
   "nbconvert_exporter": "python",
   "pygments_lexer": "ipython3",
   "version": "3.8.8"
  }
 },
 "nbformat": 4,
 "nbformat_minor": 1
}
